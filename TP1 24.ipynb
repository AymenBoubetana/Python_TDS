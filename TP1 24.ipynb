{
 "cells": [
  {
   "cell_type": "code",
   "execution_count": 2,
   "id": "80971508",
   "metadata": {},
   "outputs": [
    {
     "name": "stdout",
     "output_type": "stream",
     "text": [
      "a\n"
     ]
    }
   ],
   "source": [
    "# Exercice 1:\n",
    "# question 1\n",
    "def creer_dico_resultats(list_vote:list):\n",
    "    \"\"\" Fonction qui compte les elemnts de liste\"\"\"\n",
    "    dic = {}  # ou bien dic =dict()\n",
    "    for i in list_vote:\n",
    "        if i in dic:\n",
    "            dic[i] += 1\n",
    "        else:\n",
    "            dic[i] = 1\n",
    "    return dic\n",
    "\n",
    "# print(creer_dico_resultats(['a', 'b', 'a', 'b', 'c']))\n",
    "\n",
    "#question 2\n",
    "def cle_de_valeur(dict):\n",
    "    # on peut raisonner comme ca\n",
    "    # valMax = dict[dict.keys()[0]]\n",
    "    keye = ''\n",
    "    valeur = 0\n",
    "    for  key,value in dict.items():\n",
    "        if value>valeur:\n",
    "            valeur = value\n",
    "            keye = key\n",
    "\n",
    "    return keye\n",
    "\n",
    "# plusieurs maximum\n",
    "def cle_de_valeur_plusieur(dict):\n",
    "    # on peut raisonner comme ca\n",
    "    # valMax = dict[dict.keys()[0]]\n",
    "    keye = []\n",
    "    valeur_max = max(dict.values())\n",
    "    for  key,value in dict.items():\n",
    "        if value == valeur_max:\n",
    "            keye.append(key)\n",
    "\n",
    "    return keye\n",
    "print(cle_de_valeur(creer_dico_resultats(['a', 'b', 'a','a', 'b', 'c'])))\n",
    "\n",
    "# question 3\n",
    "\n",
    "def scrutin_un_tour(l):\n",
    "    return cle_de_valeur(creer_dico_resultats(l))\n",
    "\n",
    "# print(scrutin_un_tour(['a', 'b', 'a','a', 'b', 'c']))\n",
    "\n",
    "\n"
   ]
  },
  {
   "cell_type": "code",
   "execution_count": 7,
   "id": "c6ae27c7",
   "metadata": {},
   "outputs": [
    {
     "name": "stdout",
     "output_type": "stream",
     "text": [
      "-0.54402111088927\n"
     ]
    }
   ],
   "source": [
    "# Exercice 2:\n",
    "import math\n",
    "\n",
    "def U(x, n):\n",
    "    \"\"\"Calcule la somme partielle jusqu'à l'ordre n de l'approximation de sin(x).\"\"\"\n",
    "    s = 0\n",
    "    for i in range(n + 1):\n",
    "        s += (-1)**i * (x**(2*i + 1)) / math.factorial(2*i + 1)\n",
    "    return s\n",
    "\n",
    "def sin_approx(x):\n",
    "    \"\"\"Approximation de sin(x) avec une précision de 1e-16.\"\"\"\n",
    "    sub = 1  # différence initiale\n",
    "    i = 1\n",
    "    while sub > 1e-16:  # Réduire la précision à 1e-16\n",
    "        current = U(x, i)\n",
    "        previous = U(x, i - 1)\n",
    "        sub = abs(current - previous)\n",
    "        i += 1\n",
    "    return current\n",
    "\n",
    "# Test de la fonction sin_approx\n",
    "resultat = sin_approx(10)\n",
    "print(resultat)\n",
    "        "
   ]
  },
  {
   "cell_type": "code",
   "execution_count": null,
   "id": "55930419",
   "metadata": {},
   "outputs": [],
   "source": []
  }
 ],
 "metadata": {
  "kernelspec": {
   "display_name": "Python 3 (ipykernel)",
   "language": "python",
   "name": "python3"
  },
  "language_info": {
   "codemirror_mode": {
    "name": "ipython",
    "version": 3
   },
   "file_extension": ".py",
   "mimetype": "text/x-python",
   "name": "python",
   "nbconvert_exporter": "python",
   "pygments_lexer": "ipython3",
   "version": "3.11.5"
  }
 },
 "nbformat": 4,
 "nbformat_minor": 5
}
