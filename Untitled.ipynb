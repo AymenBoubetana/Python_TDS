{
 "cells": [
  {
   "cell_type": "code",
   "execution_count": 1,
   "id": "255eecab",
   "metadata": {},
   "outputs": [],
   "source": [
    "S= \"Aymen\""
   ]
  },
  {
   "cell_type": "code",
   "execution_count": 2,
   "id": "cd5ebe11",
   "metadata": {},
   "outputs": [
    {
     "data": {
      "text/plain": [
       "2"
      ]
     },
     "execution_count": 2,
     "metadata": {},
     "output_type": "execute_result"
    }
   ],
   "source": [
    "S.find(\"men\")"
   ]
  },
  {
   "cell_type": "code",
   "execution_count": 3,
   "id": "72541cc3",
   "metadata": {},
   "outputs": [],
   "source": [
    "S = \"        Boubetana     \""
   ]
  },
  {
   "cell_type": "code",
   "execution_count": 4,
   "id": "adbc03b6",
   "metadata": {},
   "outputs": [
    {
     "data": {
      "text/plain": [
       "'        Boubetana'"
      ]
     },
     "execution_count": 4,
     "metadata": {},
     "output_type": "execute_result"
    }
   ],
   "source": [
    "S.rstrip()"
   ]
  },
  {
   "cell_type": "code",
   "execution_count": 7,
   "id": "79a67dee",
   "metadata": {},
   "outputs": [],
   "source": [
    "S= \"a123\""
   ]
  },
  {
   "cell_type": "code",
   "execution_count": 8,
   "id": "67ace3ed",
   "metadata": {},
   "outputs": [
    {
     "data": {
      "text/plain": [
       "False"
      ]
     },
     "execution_count": 8,
     "metadata": {},
     "output_type": "execute_result"
    }
   ],
   "source": [
    "S.isdigit()"
   ]
  },
  {
   "cell_type": "code",
   "execution_count": 12,
   "id": "60cdbd69",
   "metadata": {},
   "outputs": [
    {
     "data": {
      "text/plain": [
       "'1'"
      ]
     },
     "execution_count": 12,
     "metadata": {},
     "output_type": "execute_result"
    }
   ],
   "source": [
    "chr(ord(\"1\"))"
   ]
  },
  {
   "cell_type": "code",
   "execution_count": 13,
   "id": "063ffd8e",
   "metadata": {},
   "outputs": [],
   "source": [
    "lis = [1,2,3,4,5]"
   ]
  },
  {
   "cell_type": "code",
   "execution_count": 15,
   "id": "94e0a25a",
   "metadata": {},
   "outputs": [],
   "source": [
    "lis.insert(1,\"aymen\") # position is important "
   ]
  },
  {
   "cell_type": "code",
   "execution_count": 16,
   "id": "a80cbf11",
   "metadata": {},
   "outputs": [
    {
     "data": {
      "text/plain": [
       "[1, 'aymen', 2, 3, 4, 5]"
      ]
     },
     "execution_count": 16,
     "metadata": {},
     "output_type": "execute_result"
    }
   ],
   "source": [
    "lis"
   ]
  },
  {
   "cell_type": "code",
   "execution_count": 17,
   "id": "216680ce",
   "metadata": {},
   "outputs": [],
   "source": [
    "tup = (1,\"aymen\",[2,3])"
   ]
  },
  {
   "cell_type": "code",
   "execution_count": 18,
   "id": "23c66524",
   "metadata": {},
   "outputs": [],
   "source": [
    "tup[2].append(6)"
   ]
  },
  {
   "cell_type": "code",
   "execution_count": 19,
   "id": "ec45a59c",
   "metadata": {},
   "outputs": [
    {
     "data": {
      "text/plain": [
       "(1, 'aymen', [2, 3, 6])"
      ]
     },
     "execution_count": 19,
     "metadata": {},
     "output_type": "execute_result"
    }
   ],
   "source": [
    "tup"
   ]
  },
  {
   "cell_type": "code",
   "execution_count": 27,
   "id": "48e20a2d",
   "metadata": {},
   "outputs": [
    {
     "ename": "TypeError",
     "evalue": "'tuple' object does not support item assignment",
     "output_type": "error",
     "traceback": [
      "\u001b[1;31m---------------------------------------------------------------------------\u001b[0m",
      "\u001b[1;31mTypeError\u001b[0m                                 Traceback (most recent call last)",
      "Cell \u001b[1;32mIn[27], line 1\u001b[0m\n\u001b[1;32m----> 1\u001b[0m tup[\u001b[38;5;241m1\u001b[39m]\u001b[38;5;241m=\u001b[39mtup[\u001b[38;5;241m1\u001b[39m]\u001b[38;5;241m.\u001b[39mreplace(\u001b[38;5;124m\"\u001b[39m\u001b[38;5;124ma\u001b[39m\u001b[38;5;124m\"\u001b[39m,\u001b[38;5;124m\"\u001b[39m\u001b[38;5;124mb\u001b[39m\u001b[38;5;124m\"\u001b[39m)\n",
      "\u001b[1;31mTypeError\u001b[0m: 'tuple' object does not support item assignment"
     ]
    }
   ],
   "source": [
    "tup[1]=tup[1].replace(\"a\",\"b\")"
   ]
  },
  {
   "cell_type": "code",
   "execution_count": 21,
   "id": "3a392ca9",
   "metadata": {},
   "outputs": [
    {
     "data": {
      "text/plain": [
       "(1, 'aymen', [2, 3, 6])"
      ]
     },
     "execution_count": 21,
     "metadata": {},
     "output_type": "execute_result"
    }
   ],
   "source": [
    "tup"
   ]
  },
  {
   "cell_type": "code",
   "execution_count": 22,
   "id": "2aa7bb23",
   "metadata": {},
   "outputs": [],
   "source": [
    "S=\"aymen\""
   ]
  },
  {
   "cell_type": "code",
   "execution_count": 25,
   "id": "90cfe633",
   "metadata": {},
   "outputs": [],
   "source": [
    "S=S.replace(\"a\",\"b\")"
   ]
  },
  {
   "cell_type": "code",
   "execution_count": 26,
   "id": "ecf86ca6",
   "metadata": {},
   "outputs": [
    {
     "data": {
      "text/plain": [
       "'bymen'"
      ]
     },
     "execution_count": 26,
     "metadata": {},
     "output_type": "execute_result"
    }
   ],
   "source": [
    "S"
   ]
  },
  {
   "cell_type": "code",
   "execution_count": 28,
   "id": "b8207c91",
   "metadata": {},
   "outputs": [],
   "source": [
    "dic = {\"ay\":1,\"cv\":2,\"fv\":3}"
   ]
  },
  {
   "cell_type": "code",
   "execution_count": 29,
   "id": "f7552c8a",
   "metadata": {},
   "outputs": [
    {
     "ename": "AttributeError",
     "evalue": "'dict' object has no attribute 'has_key'",
     "output_type": "error",
     "traceback": [
      "\u001b[1;31m---------------------------------------------------------------------------\u001b[0m",
      "\u001b[1;31mAttributeError\u001b[0m                            Traceback (most recent call last)",
      "Cell \u001b[1;32mIn[29], line 1\u001b[0m\n\u001b[1;32m----> 1\u001b[0m dic\u001b[38;5;241m.\u001b[39mhas_key(\u001b[38;5;124m\"\u001b[39m\u001b[38;5;124may\u001b[39m\u001b[38;5;124m\"\u001b[39m)\n",
      "\u001b[1;31mAttributeError\u001b[0m: 'dict' object has no attribute 'has_key'"
     ]
    }
   ],
   "source": [
    "dic.has_key(\"ay\")"
   ]
  },
  {
   "cell_type": "code",
   "execution_count": 36,
   "id": "f367dd37",
   "metadata": {},
   "outputs": [
    {
     "data": {
      "text/plain": [
       "dict_items([('ay', 1), ('cv', 2), ('aye', 4)])"
      ]
     },
     "execution_count": 36,
     "metadata": {},
     "output_type": "execute_result"
    }
   ],
   "source": [
    "dic.items()"
   ]
  },
  {
   "cell_type": "code",
   "execution_count": 32,
   "id": "e7364f1d",
   "metadata": {},
   "outputs": [
    {
     "data": {
      "text/plain": [
       "('fv', 3)"
      ]
     },
     "execution_count": 32,
     "metadata": {},
     "output_type": "execute_result"
    }
   ],
   "source": [
    "dic.popitem()"
   ]
  },
  {
   "cell_type": "code",
   "execution_count": 35,
   "id": "a22bb551",
   "metadata": {},
   "outputs": [
    {
     "data": {
      "text/plain": [
       "4"
      ]
     },
     "execution_count": 35,
     "metadata": {},
     "output_type": "execute_result"
    }
   ],
   "source": [
    "dic.setdefault(\"aye\",4)"
   ]
  },
  {
   "cell_type": "code",
   "execution_count": 40,
   "id": "bb625281",
   "metadata": {},
   "outputs": [
    {
     "name": "stdout",
     "output_type": "stream",
     "text": [
      "Equipe Les bleus\n",
      "Capitaine: non défini\n",
      "gardien: André\n",
      "attaquant: Micheline\n"
     ]
    }
   ],
   "source": [
    "def team(name, leader='non défini', **kwargs):\n",
    "    print('Equipe %s' % name)\n",
    "    print('Capitaine: %s' % leader)\n",
    "    for name, value in kwargs.items():\n",
    "        print('%s: %s' % (name, value))\n",
    "team('Les bleus',gardien='André', attaquant='Micheline')"
   ]
  },
  {
   "cell_type": "code",
   "execution_count": null,
   "id": "edd0fc28",
   "metadata": {},
   "outputs": [],
   "source": []
  },
  {
   "cell_type": "code",
   "execution_count": 46,
   "id": "7e2db79b",
   "metadata": {},
   "outputs": [
    {
     "name": "stdout",
     "output_type": "stream",
     "text": [
      "{'_Exampled__private': \"I'm private\", '_var': 1}\n",
      "1\n"
     ]
    }
   ],
   "source": [
    "class Exampled:\n",
    "    def __init__(self):\n",
    "        self.__private = \"I'm private\"\n",
    "        self._var=1\n",
    "\n",
    "obj = Exampled()\n",
    "# print(obj.__private)  # Provoque une erreur : AttributeError\n",
    "print(obj.__dict__)  # Accès via le mangling : I'm private\n",
    "print(obj._var)\n"
   ]
  },
  {
   "cell_type": "code",
   "execution_count": 47,
   "id": "12057a92",
   "metadata": {},
   "outputs": [],
   "source": [
    "class ZDict :\n",
    "    def __init__ ( self ):\n",
    "        self.__dictionnaire = {}\n",
    "    def __getitem__ (self , index ):\n",
    "        return self.__dictionnaire [ index ]\n",
    "    def __setitem__ (self , index , valeur ):\n",
    "        self.__dictionnaire [ index ] = valeur\n",
    "    def __str__ (self ):\n",
    "        return str(self.__dictionnaire.items())"
   ]
  },
  {
   "cell_type": "code",
   "execution_count": 50,
   "id": "106e5b4d",
   "metadata": {},
   "outputs": [
    {
     "name": "stdout",
     "output_type": "stream",
     "text": [
      "11\n"
     ]
    }
   ],
   "source": [
    "zd=ZDict()\n",
    "zd['a']=11\n",
    "zd['b']=22\n",
    "print(zd['a'\n",
    "])"
   ]
  },
  {
   "cell_type": "code",
   "execution_count": null,
   "id": "65d484b5",
   "metadata": {},
   "outputs": [],
   "source": []
  }
 ],
 "metadata": {
  "kernelspec": {
   "display_name": "Python 3 (ipykernel)",
   "language": "python",
   "name": "python3"
  },
  "language_info": {
   "codemirror_mode": {
    "name": "ipython",
    "version": 3
   },
   "file_extension": ".py",
   "mimetype": "text/x-python",
   "name": "python",
   "nbconvert_exporter": "python",
   "pygments_lexer": "ipython3",
   "version": "3.11.5"
  }
 },
 "nbformat": 4,
 "nbformat_minor": 5
}
