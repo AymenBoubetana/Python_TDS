{
 "cells": [
  {
   "cell_type": "code",
   "execution_count": 4,
   "id": "56c1a26d",
   "metadata": {},
   "outputs": [],
   "source": [
    "reseau = ( [\"ville1\", \"ville2\",\"ville3\",\"ville4\",\"ville5\",\"ville6\",\"ville7\",\"ville8\"] ,\n",
    "[ [0,1], [1,3], [3,2], [2,0], [0,3], [2,1], [4,5], [5,7], [7,6], [6,4], [7,4], [6,5], [2,4], [5,3] ] )"
   ]
  },
  {
   "cell_type": "code",
   "execution_count": 5,
   "id": "cf5f6543",
   "metadata": {},
   "outputs": [],
   "source": [
    "reseau2 = ( [\"name1\", \"name2\",\"name3\",\"name4\",\"name5\",\"name6\",\"name7\",\"name8\"] ,\n",
    "[ [ 0, 1, 1, 1, 0, 0, 0, 0 ],\n",
    "[ 1, 0, 1, 1, 0, 0, 0, 0 ],\n",
    "[ 1, 1, 0, 1, 1, 0, 0, 0 ],\n",
    "[ 1, 1, 1, 0, 0, 1, 0, 0 ],\n",
    "[ 0, 0, 1, 0, 0, 1, 1, 1 ],\n",
    "[ 0, 0, 0, 1, 1, 0, 1, 1 ],\n",
    "[ 0, 0, 0, 0, 1, 1, 0, 1 ],\n",
    "[ 0, 0, 0, 0, 1, 1, 1, 0 ] ])"
   ]
  },
  {
   "cell_type": "markdown",
   "id": "c9c2bc1c",
   "metadata": {},
   "source": [
    "## Premiere Partie"
   ]
  },
  {
   "cell_type": "code",
   "execution_count": 6,
   "id": "9f080b76",
   "metadata": {},
   "outputs": [
    {
     "data": {
      "text/plain": [
       "-1"
      ]
     },
     "execution_count": 6,
     "metadata": {},
     "output_type": "execute_result"
    }
   ],
   "source": [
    "# Partie A\n",
    "\n",
    "def numeroVille(reseau1,nomVille):\n",
    "    if nomVille not in reseau1[0]:\n",
    "        return -1\n",
    "    return reseau1[0].index(nomVille)\n",
    "numeroVille(reseau,\"name21\")      "
   ]
  },
  {
   "cell_type": "code",
   "execution_count": 7,
   "id": "059514c8",
   "metadata": {},
   "outputs": [
    {
     "data": {
      "text/plain": [
       "False"
      ]
     },
     "execution_count": 7,
     "metadata": {},
     "output_type": "execute_result"
    }
   ],
   "source": [
    "def existeRoute(reseau1,nomVille1,nomVille2):\n",
    "    if nomVille1 not in reseau1[0] or nomVille2 not in reseau1[0]:\n",
    "        return False\n",
    "    ind1 = reseau1[0].index(nomVille1)\n",
    "    ind2 = reseau1[0].index(nomVille2)\n",
    "    if [ind1,ind2] in reseau1[1] or [ind2,ind1] in reseau1[1]:\n",
    "        return True\n",
    "    \n",
    "    return False\n",
    "\n",
    "existeRoute(reseau,\"ville1\",\"ville6\")"
   ]
  },
  {
   "cell_type": "code",
   "execution_count": 8,
   "id": "336e518d",
   "metadata": {},
   "outputs": [],
   "source": [
    "def AjoutRouteReseau(reseau,nomVille1,nomVille2):\n",
    "    ind1 = numeroVille(reseau,nomVille1)\n",
    "    ind2 = numeroVille(reseau,nomVille2)\n",
    "    if existeRoute(reseau,nomVille1,nomVille2):\n",
    "        raise TrficException(\"la route deja existe\")\n",
    "    else:\n",
    "        reseau[1].append([ind1,ind2])\n",
    " \n",
    "AjoutRouteReseau(reseau,\"ville1\",\"ville6\")"
   ]
  },
  {
   "cell_type": "code",
   "execution_count": 9,
   "id": "183d78f1",
   "metadata": {},
   "outputs": [
    {
     "data": {
      "text/plain": [
       "(['ville1',\n",
       "  'ville2',\n",
       "  'ville3',\n",
       "  'ville4',\n",
       "  'ville5',\n",
       "  'ville6',\n",
       "  'ville7',\n",
       "  'ville8'],\n",
       " [[0, 1],\n",
       "  [1, 3],\n",
       "  [3, 2],\n",
       "  [2, 0],\n",
       "  [0, 3],\n",
       "  [2, 1],\n",
       "  [4, 5],\n",
       "  [5, 7],\n",
       "  [7, 6],\n",
       "  [6, 4],\n",
       "  [7, 4],\n",
       "  [6, 5],\n",
       "  [2, 4],\n",
       "  [5, 3],\n",
       "  [0, 5]])"
      ]
     },
     "execution_count": 9,
     "metadata": {},
     "output_type": "execute_result"
    }
   ],
   "source": [
    "reseau"
   ]
  },
  {
   "cell_type": "code",
   "execution_count": 10,
   "id": "7f3fa6ff",
   "metadata": {},
   "outputs": [
    {
     "data": {
      "text/plain": [
       "(['Ville1',\n",
       "  'Ville2',\n",
       "  'Ville3',\n",
       "  'Ville4',\n",
       "  'Ville5',\n",
       "  'Ville6',\n",
       "  'Ville7',\n",
       "  'Ville8'],\n",
       " [[0, 0, 0, 0, 0, 0, 0, 0],\n",
       "  [0, 0, 0, 0, 0, 0, 0, 0],\n",
       "  [0, 0, 0, 0, 0, 0, 0, 0],\n",
       "  [0, 0, 0, 0, 0, 0, 0, 0],\n",
       "  [0, 0, 0, 0, 0, 0, 0, 0],\n",
       "  [0, 0, 0, 0, 0, 0, 0, 0],\n",
       "  [0, 0, 0, 0, 0, 0, 0, 0],\n",
       "  [0, 0, 0, 0, 0, 0, 0, 0]])"
      ]
     },
     "execution_count": 10,
     "metadata": {},
     "output_type": "execute_result"
    }
   ],
   "source": [
    "# Partie B :\n",
    "\n",
    "def creerReseau(listeNomsVilles):\n",
    "    n = len(listeNomsVilles)\n",
    "    matrice = [[0 for _ in range(n)] for _ in range(n)]\n",
    "    return (listeNomsVilles, matrice)\n",
    "\n",
    "listNomsVilles = [\"Ville1\", \"Ville2\", \"Ville3\", \"Ville4\", \"Ville5\", \"Ville6\", \"Ville7\", \"Ville8\"]\n",
    "reseau = creerReseau(listNomsVilles)\n",
    "reseau"
   ]
  },
  {
   "cell_type": "code",
   "execution_count": 11,
   "id": "893758d0",
   "metadata": {},
   "outputs": [
    {
     "name": "stdout",
     "output_type": "stream",
     "text": [
      "['name2', 'name3', 'name4']\n"
     ]
    }
   ],
   "source": [
    "def listeVilles(reseau2,nomVille):\n",
    "    if nomVille not in reseau2[0]:\n",
    "        return None\n",
    "    Villes = []\n",
    "    \n",
    "    ind = numeroVille(reseau2,nomVille)\n",
    "    \n",
    "    for i in range(len(reseau2[1][ind])):\n",
    "        if reseau2[1][ind][i] == 1:\n",
    "            Villes.append(reseau2[0][i])\n",
    "    \n",
    "    return Villes\n",
    "  \n",
    "print(listeVilles(reseau2,\"name1\"))"
   ]
  },
  {
   "cell_type": "code",
   "execution_count": 12,
   "id": "1ef86d05",
   "metadata": {},
   "outputs": [
    {
     "data": {
      "text/plain": [
       "{'name1': 3,\n",
       " 'name2': 3,\n",
       " 'name3': 4,\n",
       " 'name4': 4,\n",
       " 'name5': 4,\n",
       " 'name6': 4,\n",
       " 'name7': 3,\n",
       " 'name8': 3}"
      ]
     },
     "execution_count": 12,
     "metadata": {},
     "output_type": "execute_result"
    }
   ],
   "source": [
    "def dictDegresVille(reseau2):\n",
    "    dic = dict()\n",
    "    \n",
    "    for i in range(len(reseau2[0])):\n",
    "        dic[reseau2[0][i]] = sum(reseau2[1][i])\n",
    "        \n",
    "   \n",
    "\n",
    "    return dic\n",
    "\n",
    "dictDegresVille(reseau2)"
   ]
  },
  {
   "cell_type": "markdown",
   "id": "18918620",
   "metadata": {},
   "source": [
    "## Deuxieme Partie"
   ]
  },
  {
   "cell_type": "code",
   "execution_count": 15,
   "id": "8e9e13f7",
   "metadata": {},
   "outputs": [],
   "source": [
    "class Ville:\n",
    "    def __init__(self, name, latitude, longitude):\n",
    "        assert isinstance(name, str), \"Le nom doit être une chaîne de caractères\"\n",
    "        assert isinstance(latitude, float), \"La latitude doit être un nombre à virgule flottante\"\n",
    "        assert isinstance(longitude, float), \"La longitude doit être un nombre à virgule flottante\"\n",
    "        self.__name = name\n",
    "        self.__latitude = latitude\n",
    "        self.__longitude = longitude\n",
    "\n",
    "    def get_name(self):\n",
    "        return self.__name\n",
    "\n",
    "    def __str__(self):\n",
    "        return f\"La ville est {self.__name}, avec une latitude de {self.__latitude} et une longitude de {self.__longitude}\"\n",
    "\n",
    "    def __eq__(self, obj):\n",
    "        if isinstance(obj, Ville):\n",
    "            return self.__name == obj.get_name()\n",
    "        return False\n",
    "\n",
    "class Reseau:\n",
    "    def __init__(self):\n",
    "        self.listVille = []\n",
    "        self.listRoutes = []\n",
    "\n",
    "    def addVille(self, name, latitude=0.0, longitude=0.0):\n",
    "        ville = Ville(name, latitude, longitude)\n",
    "        self.listVille.append(ville)\n",
    "\n",
    "    def getVilleByName(self, name):\n",
    "        for ville in self.listVille:\n",
    "            if ville.get_name() == name:\n",
    "                return ville\n",
    "        return None\n",
    "\n",
    "    def addRoute(self, nameVille1, nameVille2):\n",
    "        ville1 = self.getVilleByName(nameVille1)\n",
    "        ville2 = self.getVilleByName(nameVille2)\n",
    "\n",
    "        if ville1 is None or ville2 is None:\n",
    "            raise AssertionError(\"Une des villes n'existe pas dans le réseau.\")\n",
    "\n",
    "        if [nameVille1, nameVille2] in self.listRoutes or [nameVille2, nameVille1] in self.listRoutes:\n",
    "            raise AssertionError(\"La route existe déjà.\")\n",
    "\n",
    "        self.listRoutes.append([ville1, ville2])\n",
    "\n",
    "    def getVilleMaxDegres(self):\n",
    "        if not self.listRoutes:\n",
    "            return None\n",
    "\n",
    "        \n",
    "        degres = {ville.get_name(): 0 for ville in self.listVille}\n",
    "        \n",
    "        \n",
    "        for route in self.listRoutes:\n",
    "            ville1, ville2 = route\n",
    "            degres[ville1.get_name()] += 1\n",
    "            degres[ville2.get_name()] += 1\n",
    "\n",
    "        ville_max = None\n",
    "        max_degre = -1\n",
    "\n",
    "        \n",
    "        for ville, degre in degres.items():\n",
    "            if degre > max_degre:\n",
    "                max_degre = degre\n",
    "                ville_max = ville\n",
    "\n",
    "        return ville_max\n"
   ]
  },
  {
   "cell_type": "code",
   "execution_count": 17,
   "id": "d56f511c",
   "metadata": {},
   "outputs": [
    {
     "name": "stdout",
     "output_type": "stream",
     "text": [
      "La ville avec le plus de connexions est Paris\n"
     ]
    }
   ],
   "source": [
    "\n",
    "reseau = Reseau()\n",
    "reseau.addVille(\"Paris\", 48.8566, 2.3522)\n",
    "reseau.addVille(\"Londres\", 51.5074, -0.1278)\n",
    "reseau.addVille(\"Berlin\", 52.5200, 13.4050)\n",
    "reseau.addVille(\"Madrid\", 40.4168, -3.7038)\n",
    "\n",
    "\n",
    "reseau.addRoute(\"Paris\", \"Madrid\")\n",
    "reseau.addRoute(\"Paris\", \"Berlin\")\n",
    "reseau.addRoute(\"Berlin\", \"Madrid\")\n",
    "reseau.addRoute(\"Londres\", \"Madrid\")\n",
    "reseau.addRoute(\"Paris\", \"Berlin\")\n",
    "\n",
    "\n",
    "ville_max = reseau.getVilleMaxDegres()\n",
    "\n",
    "\n",
    "if ville_max:\n",
    "    print(f\"La ville avec le plus de connexions est {ville_max}\")\n",
    "else:\n",
    "    print(\"Aucune ville ou route n'est disponible dans le réseau.\")\n"
   ]
  },
  {
   "cell_type": "code",
   "execution_count": null,
   "id": "9a2b98b9",
   "metadata": {},
   "outputs": [],
   "source": [
    "1!=3"
   ]
  },
  {
   "cell_type": "code",
   "execution_count": 3,
   "id": "5c9750ed",
   "metadata": {},
   "outputs": [
    {
     "name": "stderr",
     "output_type": "stream",
     "text": [
      "<>:1: SyntaxWarning: \"is not\" with a literal. Did you mean \"!=\"?\n",
      "<>:1: SyntaxWarning: \"is not\" with a literal. Did you mean \"!=\"?\n",
      "C:\\Users\\user\\AppData\\Local\\Temp\\ipykernel_11312\\1952261205.py:1: SyntaxWarning: \"is not\" with a literal. Did you mean \"!=\"?\n",
      "  1 is not 2\n"
     ]
    },
    {
     "data": {
      "text/plain": [
       "True"
      ]
     },
     "execution_count": 3,
     "metadata": {},
     "output_type": "execute_result"
    }
   ],
   "source": [
    "1 is not 2"
   ]
  },
  {
   "cell_type": "code",
   "execution_count": 19,
   "id": "8b3f7458",
   "metadata": {},
   "outputs": [
    {
     "data": {
      "text/plain": [
       "mappingproxy({'__module__': '__main__',\n",
       "              '__init__': <function __main__.Reseau.__init__(self)>,\n",
       "              'addVille': <function __main__.Reseau.addVille(self, name, latitude=0.0, longitude=0.0)>,\n",
       "              'getVilleByName': <function __main__.Reseau.getVilleByName(self, name)>,\n",
       "              'addRoute': <function __main__.Reseau.addRoute(self, nameVille1, nameVille2)>,\n",
       "              'getVilleMaxDegres': <function __main__.Reseau.getVilleMaxDegres(self)>,\n",
       "              '__dict__': <attribute '__dict__' of 'Reseau' objects>,\n",
       "              '__weakref__': <attribute '__weakref__' of 'Reseau' objects>,\n",
       "              '__doc__': None})"
      ]
     },
     "execution_count": 19,
     "metadata": {},
     "output_type": "execute_result"
    }
   ],
   "source": [
    "Reseau.__dict__"
   ]
  },
  {
   "cell_type": "code",
   "execution_count": 21,
   "id": "5ab076d5",
   "metadata": {},
   "outputs": [
    {
     "data": {
      "text/plain": [
       "['__class__',\n",
       " '__delattr__',\n",
       " '__dict__',\n",
       " '__dir__',\n",
       " '__doc__',\n",
       " '__eq__',\n",
       " '__format__',\n",
       " '__ge__',\n",
       " '__getattribute__',\n",
       " '__getstate__',\n",
       " '__gt__',\n",
       " '__hash__',\n",
       " '__init__',\n",
       " '__init_subclass__',\n",
       " '__le__',\n",
       " '__lt__',\n",
       " '__module__',\n",
       " '__ne__',\n",
       " '__new__',\n",
       " '__reduce__',\n",
       " '__reduce_ex__',\n",
       " '__repr__',\n",
       " '__setattr__',\n",
       " '__sizeof__',\n",
       " '__str__',\n",
       " '__subclasshook__',\n",
       " '__weakref__',\n",
       " 'addRoute',\n",
       " 'addVille',\n",
       " 'getVilleByName',\n",
       " 'getVilleMaxDegres']"
      ]
     },
     "execution_count": 21,
     "metadata": {},
     "output_type": "execute_result"
    }
   ],
   "source": [
    "dir(Reseau)"
   ]
  },
  {
   "cell_type": "code",
   "execution_count": null,
   "id": "d416faf9",
   "metadata": {},
   "outputs": [],
   "source": []
  }
 ],
 "metadata": {
  "kernelspec": {
   "display_name": "Python 3 (ipykernel)",
   "language": "python",
   "name": "python3"
  },
  "language_info": {
   "codemirror_mode": {
    "name": "ipython",
    "version": 3
   },
   "file_extension": ".py",
   "mimetype": "text/x-python",
   "name": "python",
   "nbconvert_exporter": "python",
   "pygments_lexer": "ipython3",
   "version": "3.11.5"
  }
 },
 "nbformat": 4,
 "nbformat_minor": 5
}
